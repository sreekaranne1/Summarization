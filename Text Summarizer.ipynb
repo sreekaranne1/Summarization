{
  "nbformat": 4,
  "nbformat_minor": 0,
  "metadata": {
    "colab": {
      "name": "Untitled7.ipynb",
      "provenance": []
    },
    "kernelspec": {
      "name": "python3",
      "display_name": "Python 3"
    }
  },
  "cells": [
    {
      "cell_type": "code",
      "metadata": {
        "id": "fA5HQn7pieYQ",
        "outputId": "13a64325-3ac6-44cf-843e-c7bfbfd88783",
        "colab": {
          "base_uri": "https://localhost:8080/",
          "height": 142
        }
      },
      "source": [
        "\n",
        "import nltk \n",
        "from nltk.corpus import stopwords \n",
        "from nltk.tokenize import word_tokenize, sent_tokenize \n",
        "nltk.download(\"stopwords\")\n",
        "nltk.download('punkt')\n",
        "\n",
        "text=input()\n",
        "\n",
        "stopWords = set(stopwords.words(\"english\")) \n",
        "words = word_tokenize(text) \n",
        "\n",
        "\n",
        "freqTable = dict() \n",
        "for word in words: \n",
        "\tword = word.lower() \n",
        "\tif word in stopWords: \n",
        "\t\tcontinue\n",
        "\tif word in freqTable: \n",
        "\t\tfreqTable[word] += 1\n",
        "\telse: \n",
        "\t\tfreqTable[word] = 1\n",
        "\n",
        "\n",
        "sentences = sent_tokenize(text) \n",
        "sentenceValue = dict() \n",
        "\n",
        "for sentence in sentences: \n",
        "\tfor word, freq in freqTable.items(): \n",
        "\t\tif word in sentence.lower(): \n",
        "\t\t\tif sentence in sentenceValue: \n",
        "\t\t\t\tsentenceValue[sentence] += freq \n",
        "\t\t\telse: \n",
        "\t\t\t\tsentenceValue[sentence] = freq \n",
        "\n",
        "\n",
        "\n",
        "sumValues = 0\n",
        "for sentence in sentenceValue: \n",
        "\tsumValues += sentenceValue[sentence] \n",
        "\n",
        "\n",
        "\n",
        "average = int(sumValues / len(sentenceValue)) \n",
        "summary = '' \n",
        "for sentence in sentences: \n",
        "\tif (sentence in sentenceValue) and (sentenceValue[sentence] > (1.2 * average)): \n",
        "\t\tsummary += \" \" + sentence \n",
        "print(summary) \n"
      ],
      "execution_count": null,
      "outputs": [
        {
          "output_type": "stream",
          "text": [
            "[nltk_data] Downloading package stopwords to /root/nltk_data...\n",
            "[nltk_data]   Unzipping corpora/stopwords.zip.\n",
            "[nltk_data] Downloading package punkt to /root/nltk_data...\n",
            "[nltk_data]   Unzipping tokenizers/punkt.zip.\n",
            "Rohit Sharma led from the front as Mumbai Indians (MI) beat Kolkata Knight Riders (KKR) by 49 runs and secured their first win of the Indian Premier League (IPL) 2020 in Abu Dhabi on Wednesday.After KKR won the toss and elected to field in their first game of the season, Shivam Mavi struck early, to dismiss Quinton de Kock in the second over.But MI skipper Rohit and Suryakumar Yadav counterattacked and cashed in on every scoring opportunity.KKR got a lucky breakthrough in the 19th over as Hardik got out hit-wicket off Russell’s bowling. MI scored 13 runs in the final over to take their run-tally to 195/5.Needing 196 runs to win, KKR lost their first wicket in the third over of the chase as Trent Boult dismissed Shubman Gill. While KKR skipper Dinesh Karthik hit a couple of crisp fours, MI got their second wicket as de Kock held onto a fine flying catch off James Pattinson’s bowling to get Narine out in the fifth over.Nitish Rana replaced Narine in the middle and hardly wasted any time to make his intentions clear. However, in the 14th over ,Hardik displayed a piece of fielding brilliance. After Rana went aerial off Pollard’s bowling, Hardik, manning the sweeper cover area, ran towards his left held on to a fine catch, kept his composure and balance to not touch the rope and gave MI their fourth wicket.Cummins, then, put up some show with the bat, scoring 33 off 12 balls, hitting Bumrah for three sixes in the 18th over. But he was dismissed in the penultimate over by James Pattinson. Chahar, on the final ball of the match, had Mavi stumped as MI sealed a win.\n",
            " Rohit Sharma led from the front as Mumbai Indians (MI) beat Kolkata Knight Riders (KKR) by 49 runs and secured their first win of the Indian Premier League (IPL) 2020 in Abu Dhabi on Wednesday.After KKR won the toss and elected to field in their first game of the season, Shivam Mavi struck early, to dismiss Quinton de Kock in the second over.But MI skipper Rohit and Suryakumar Yadav counterattacked and cashed in on every scoring opportunity.KKR got a lucky breakthrough in the 19th over as Hardik got out hit-wicket off Russell’s bowling. While KKR skipper Dinesh Karthik hit a couple of crisp fours, MI got their second wicket as de Kock held onto a fine flying catch off James Pattinson’s bowling to get Narine out in the fifth over.Nitish Rana replaced Narine in the middle and hardly wasted any time to make his intentions clear. After Rana went aerial off Pollard’s bowling, Hardik, manning the sweeper cover area, ran towards his left held on to a fine catch, kept his composure and balance to not touch the rope and gave MI their fourth wicket.Cummins, then, put up some show with the bat, scoring 33 off 12 balls, hitting Bumrah for three sixes in the 18th over.\n"
          ],
          "name": "stdout"
        }
      ]
    }
  ]
}